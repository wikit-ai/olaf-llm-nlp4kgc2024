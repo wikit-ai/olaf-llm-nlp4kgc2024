{
 "cells": [
  {
   "cell_type": "markdown",
   "metadata": {},
   "source": [
    "# On the pertinence of LLMs for ontology learning: results analysis\n",
    "\n",
    "This notebook contains the functions we used to construct our results. \n",
    "We try to automate as much as possible our analysis, particularly leveraging some SPARQL queries.\n",
    "However, human are still needed to align the ontologies constructed with our base one, i.e., the pizza ontology.\n",
    "\n",
    "In particular, we needed to align the ontologies independently of the exact labels.\n",
    "Hence, to help us in this endeavour, we used a basic textual distance on the labels or end of the URI if no label were available.\n",
    "In the end, the counting was done manually. "
   ]
  },
  {
   "cell_type": "markdown",
   "metadata": {},
   "source": [
    "## Notebook setup"
   ]
  },
  {
   "cell_type": "code",
   "execution_count": null,
   "metadata": {},
   "outputs": [],
   "source": [
    "import os\n",
    "\n",
    "from rapidfuzz import process, fuzz\n",
    "from rdflib import Graph, BNode\n",
    "from rdflib.namespace import Namespace\n",
    "\n",
    "import pandas as pd"
   ]
  },
  {
   "cell_type": "code",
   "execution_count": null,
   "metadata": {},
   "outputs": [],
   "source": [
    "# Define some namespaces to ease the URIs manipulation and visualisation\n",
    "\n",
    "olaf_nlp4kgc_ns = Namespace(\"https://github.com/wikit-ai/olaf-llm-nlp4kgc2024/o/example#\")\n",
    "pizza_onto_ns = Namespace(\"http://www.co-ode.org/ontologies/pizza/pizza.owl#\")\n",
    "\n",
    "olaf_nlp4kgc_ns_bindings = {\n",
    "    \"olaf-nlp4kgc\": olaf_nlp4kgc_ns,\n",
    "    \"pizza-onto\": pizza_onto_ns\n",
    "}"
   ]
  },
  {
   "cell_type": "code",
   "execution_count": null,
   "metadata": {},
   "outputs": [],
   "source": [
    "# Load the different RDF graphs\n",
    "\n",
    "pizza_onto_graph = Graph()\n",
    "pizza_onto_graph.parse(os.path.join(os.getenv(\"DATA_PATH\"), \"pizza_onto_ground_truth.ttl\"))\n",
    "\n",
    "llm_text2owl_graph = Graph()\n",
    "# llm_text2owl_graph.parse(os.path.join(os.getenv(\"RESULTS_PATH\"), \"llm_text_to_owl\", \"llm_owl_pizza_onto_openai.ttl\"))\n",
    "llm_text2owl_graph.parse(os.path.join(os.getenv(\"RESULTS_PATH\"), \"llm_text_to_owl\", \"llm_owl_pizza_onto_mistral.ttl\"))\n",
    "\n",
    "olaf_llm_graph = Graph()\n",
    "# olaf_llm_graph.parse(os.path.join(os.getenv(\"RESULTS_PATH\"), \"llm_pipeline\", \"llm_pipeline_pizza_kr_rdf_graph_openai.ttl\"))\n",
    "olaf_llm_graph.parse(os.path.join(os.getenv(\"RESULTS_PATH\"), \"llm_pipeline\", \"llm_pipeline_kr_pizza_rdf_graph_mistral.ttl\"))\n",
    "\n",
    "\n",
    "olaf_no_llm_graph = Graph()\n",
    "olaf_no_llm_graph.parse(os.path.join(os.getenv(\"RESULTS_PATH\"), \"no_llm_pipeline\", \"no_llm_pipeline_pizza_kr_rdf_graph.ttl\"))"
   ]
  },
  {
   "cell_type": "markdown",
   "metadata": {},
   "source": [
    "## SPARQL tools"
   ]
  },
  {
   "cell_type": "code",
   "execution_count": null,
   "metadata": {},
   "outputs": [],
   "source": [
    "# Some SPARQL queries we use for our analysis\n",
    "\n",
    "owl_classes_sparql_q = \"\"\"\n",
    "            SELECT DISTINCT ?class WHERE {\n",
    "                ?class rdf:type owl:Class .\n",
    "            }\n",
    "        \"\"\"\n",
    "\n",
    "owl_classes_labels_sparql_q = \"\"\"\n",
    "            SELECT ?label WHERE {\n",
    "                ?class rdf:type owl:Class ;\n",
    "                        rdfs:label ?label .\n",
    "            }\n",
    "        \"\"\"\n",
    "\n",
    "owl_classes_en_labels_sparql_q = \"\"\"\n",
    "            SELECT ?label WHERE {\n",
    "                ?class rdf:type owl:Class ;\n",
    "                        rdfs:label ?label .\n",
    "                FILTER(LANG(?label) = \"en\").\n",
    "            }\n",
    "        \"\"\"\n",
    "\n",
    "owl_obj_props_sparql_q = \"\"\"\n",
    "            SELECT DISTINCT ?prop WHERE {\n",
    "                ?prop rdf:type owl:ObjectProperty .\n",
    "            }\n",
    "        \"\"\"\n",
    "\n",
    "owl_named_individuals_sparql_q = \"\"\"\n",
    "            SELECT DISTINCT ?ind WHERE {\n",
    "                ?ind rdf:type owl:NamedIndividual .\n",
    "            }\n",
    "        \"\"\"\n",
    "\n",
    "owl_named_ind_from_obj_props_sparql_q = \"\"\"\n",
    "            SELECT DISTINCT ?ind WHERE {\n",
    "                {\n",
    "                    ?prop rdf:type owl:ObjectProperty .\n",
    "                    ?ind ?prop ?o .\n",
    "                }\n",
    "                UNION\n",
    "                {\n",
    "                    ?prop rdf:type owl:ObjectProperty .\n",
    "                    ?s ?prop ?ind .\n",
    "                }\n",
    "                UNION\n",
    "                {\n",
    "                    ?ind rdf:type ?class .\n",
    "                    ?class rdf:type owl:Class .\n",
    "                }\n",
    "                UNION\n",
    "                {\n",
    "                    ?ind rdf:type owl:NamedIndividual .\n",
    "                }\n",
    "            }\n",
    "        \"\"\"\n",
    "\n",
    "owl_named_classes_ind_from_obj_props_sparql_q = \"\"\"\n",
    "            SELECT DISTINCT ?ind WHERE {\n",
    "                {\n",
    "                    ?prop rdf:type owl:ObjectProperty .\n",
    "                    ?ind ?prop ?o .\n",
    "                }\n",
    "                UNION\n",
    "                {\n",
    "                    ?prop rdf:type owl:ObjectProperty .\n",
    "                    ?s ?prop ?ind .\n",
    "                }\n",
    "                UNION\n",
    "                {\n",
    "                    ?ind rdf:type ?class .\n",
    "                    ?class rdf:type owl:Class .\n",
    "                }\n",
    "                UNION\n",
    "                {\n",
    "                    ?ind rdf:type owl:NamedIndividual .\n",
    "                }\n",
    "                UNION\n",
    "                {\n",
    "                    ?ind rdf:type owl:Class .\n",
    "                }\n",
    "            }\n",
    "        \"\"\"\n",
    "\n",
    "rdfs_subclassof_tuples_sparql_q = \"\"\"\n",
    "            SELECT DISTINCT ?child ?parent WHERE {\n",
    "                ?child rdfs:subClassOf ?parent .\n",
    "            }\n",
    "        \"\"\""
   ]
  },
  {
   "cell_type": "code",
   "execution_count": null,
   "metadata": {},
   "outputs": [],
   "source": [
    "def get_sparql_q_res_fragments_skip_bnodes(sparql_q: str, graph: Graph, ns: dict[str, Namespace]) -> set[tuple]:\n",
    "    \"\"\"Run a SPARQL query over an RDF graph and return the URIs fragments skipping blank nodes.\n",
    "\n",
    "    Parameters\n",
    "    ----------\n",
    "    sparql_q : str\n",
    "        The SPARQL query.\n",
    "    graph : Graph\n",
    "        The RDF graph.\n",
    "    ns : dict[str, Namespace]\n",
    "        Namespaces to use to extract URIs fragments (i.e., end).\n",
    "\n",
    "    Returns\n",
    "    -------\n",
    "    set[tuple]\n",
    "        The results.\n",
    "    \"\"\"\n",
    "    q_res = graph.query(sparql_q, initNs=ns)\n",
    "    \n",
    "    fragments = set()\n",
    "    for res in q_res:\n",
    "        t = []\n",
    "        for item in res:\n",
    "            if not isinstance(item, BNode):\n",
    "                t.append(item.fragment)\n",
    "        fragments.add(tuple(t))\n",
    "\n",
    "    return fragments"
   ]
  },
  {
   "cell_type": "code",
   "execution_count": null,
   "metadata": {},
   "outputs": [],
   "source": [
    "def get_sparql_q_label_res(sparql_q: str, graph: Graph, ns: dict[str, Namespace]) -> set[tuple]:\n",
    "    \"\"\"Run a SPARQL query over an RDF graph and return the URIs labels.\n",
    "\n",
    "    The SPARQL query must return labels, i.e., strings.\n",
    "\n",
    "    Parameters\n",
    "    ----------\n",
    "    sparql_q : str\n",
    "        The SPARQL query.\n",
    "    graph : Graph\n",
    "        The RDF graph.\n",
    "    ns : dict[str, Namespace]\n",
    "        Namespaces to use to extract URIs fragments (i.e., end).\n",
    "\n",
    "    Returns\n",
    "    -------\n",
    "    set[tuple]\n",
    "        The results.\n",
    "    \"\"\"\n",
    "    q_res = graph.query(sparql_q, initNs=ns)\n",
    "\n",
    "    labels = {str(res[0]) for res in q_res}\n",
    "\n",
    "    return labels"
   ]
  },
  {
   "cell_type": "code",
   "execution_count": null,
   "metadata": {},
   "outputs": [],
   "source": [
    "def get_sparql_q_tuple_res(sparql_q: str, graph: Graph, ns: dict[str, Namespace]) -> set[tuple]:\n",
    "    \"\"\"Run a SPARQL query over an RDF graph and return the URIs labels.\n",
    "\n",
    "    The SPARQL query must return labels, i.e., strings.\n",
    "\n",
    "    Parameters\n",
    "    ----------\n",
    "    sparql_q : str\n",
    "        The SPARQL query.\n",
    "    graph : Graph\n",
    "        The RDF graph.\n",
    "    ns : dict[str, Namespace]\n",
    "        Namespaces to use to extract URIs fragments (i.e., end).\n",
    "\n",
    "    Returns\n",
    "    -------\n",
    "    set[tuple]\n",
    "        The results.\n",
    "    \"\"\"\n",
    "    q_res = graph.query(sparql_q, initNs=ns)\n",
    "\n",
    "    labels = {(str(res[0]), str(res[1])) for res in q_res}\n",
    "\n",
    "    return labels"
   ]
  },
  {
   "cell_type": "markdown",
   "metadata": {},
   "source": [
    "## Ontologies overview"
   ]
  },
  {
   "cell_type": "code",
   "execution_count": null,
   "metadata": {},
   "outputs": [],
   "source": [
    "# Extract ontology components\n",
    "\n",
    "llm_text2owl_g_classes = get_sparql_q_res_fragments_skip_bnodes(sparql_q=owl_classes_sparql_q, graph=llm_text2owl_graph, ns=olaf_nlp4kgc_ns_bindings)\n",
    "olaf_llm_g_classes = get_sparql_q_res_fragments_skip_bnodes(sparql_q=owl_classes_sparql_q, graph=olaf_llm_graph, ns=olaf_nlp4kgc_ns_bindings)\n",
    "olaf_no_llm_g_classes = get_sparql_q_res_fragments_skip_bnodes(sparql_q=owl_classes_sparql_q, graph=olaf_no_llm_graph, ns=olaf_nlp4kgc_ns_bindings)\n",
    "pizza_onto_g_classes = get_sparql_q_res_fragments_skip_bnodes(sparql_q=owl_classes_sparql_q, graph=pizza_onto_graph, ns=olaf_nlp4kgc_ns_bindings)\n",
    "\n",
    "llm_text2owl_g_props = get_sparql_q_res_fragments_skip_bnodes(sparql_q=owl_obj_props_sparql_q, graph=llm_text2owl_graph, ns=olaf_nlp4kgc_ns_bindings)\n",
    "olaf_llm_g_props = get_sparql_q_res_fragments_skip_bnodes(sparql_q=owl_obj_props_sparql_q, graph=olaf_llm_graph, ns=olaf_nlp4kgc_ns_bindings)\n",
    "olaf_no_llm_g_props = get_sparql_q_res_fragments_skip_bnodes(sparql_q=owl_obj_props_sparql_q, graph=olaf_no_llm_graph, ns=olaf_nlp4kgc_ns_bindings)\n",
    "pizza_onto_g_props = get_sparql_q_res_fragments_skip_bnodes(sparql_q=owl_obj_props_sparql_q, graph=pizza_onto_graph, ns=olaf_nlp4kgc_ns_bindings)\n",
    "\n",
    "llm_text2owl_g_individuals = get_sparql_q_res_fragments_skip_bnodes(sparql_q=owl_named_individuals_sparql_q, graph=llm_text2owl_graph, ns=olaf_nlp4kgc_ns_bindings)\n",
    "olaf_llm_g_individuals = get_sparql_q_res_fragments_skip_bnodes(sparql_q=owl_named_individuals_sparql_q, graph=olaf_llm_graph, ns=olaf_nlp4kgc_ns_bindings)\n",
    "olaf_no_llm_g_individuals = get_sparql_q_res_fragments_skip_bnodes(sparql_q=owl_named_individuals_sparql_q, graph=olaf_no_llm_graph, ns=olaf_nlp4kgc_ns_bindings)\n",
    "pizza_onto_g_individuals = get_sparql_q_res_fragments_skip_bnodes(sparql_q=owl_named_individuals_sparql_q, graph=pizza_onto_graph, ns=olaf_nlp4kgc_ns_bindings)\n",
    "\n",
    "llm_text2owl_g_individuals_from_props = get_sparql_q_res_fragments_skip_bnodes(sparql_q=owl_named_ind_from_obj_props_sparql_q, graph=llm_text2owl_graph, ns=olaf_nlp4kgc_ns_bindings)\n",
    "olaf_llm_g_individuals_from_props = get_sparql_q_res_fragments_skip_bnodes(sparql_q=owl_named_ind_from_obj_props_sparql_q, graph=olaf_llm_graph, ns=olaf_nlp4kgc_ns_bindings)\n",
    "olaf_no_llm_g_individuals_from_props = get_sparql_q_res_fragments_skip_bnodes(sparql_q=owl_named_ind_from_obj_props_sparql_q, graph=olaf_no_llm_graph, ns=olaf_nlp4kgc_ns_bindings)\n",
    "pizza_onto_g_individuals_from_props = get_sparql_q_res_fragments_skip_bnodes(sparql_q=owl_named_ind_from_obj_props_sparql_q, graph=pizza_onto_graph, ns=olaf_nlp4kgc_ns_bindings)\n",
    "\n",
    "llm_text2owl_g_subclassof_t = get_sparql_q_res_fragments_skip_bnodes(sparql_q=rdfs_subclassof_tuples_sparql_q, graph=llm_text2owl_graph, ns=olaf_nlp4kgc_ns_bindings)\n",
    "olaf_llm_g_subclassof_t = get_sparql_q_res_fragments_skip_bnodes(sparql_q=rdfs_subclassof_tuples_sparql_q, graph=olaf_llm_graph, ns=olaf_nlp4kgc_ns_bindings)\n",
    "olaf_no_llm_g_subclassof_t = get_sparql_q_res_fragments_skip_bnodes(sparql_q=rdfs_subclassof_tuples_sparql_q, graph=olaf_no_llm_graph, ns=olaf_nlp4kgc_ns_bindings)\n",
    "pizza_onto_g_subclassof_t = get_sparql_q_res_fragments_skip_bnodes(sparql_q=rdfs_subclassof_tuples_sparql_q, graph=pizza_onto_graph, ns=olaf_nlp4kgc_ns_bindings)"
   ]
  },
  {
   "cell_type": "code",
   "execution_count": null,
   "metadata": {},
   "outputs": [],
   "source": [
    "# Construct the counts table for visualisation\n",
    "\n",
    "onto_overview = {\n",
    "    \"Count\": [\n",
    "        \"OWL named classes\", \n",
    "        \"OWL object properties\", \n",
    "        \"OWL named individuals\", \n",
    "        \"OWL named individuals from object properties\", \n",
    "        \"RDFS subClassOf tuples\"\n",
    "    ],\n",
    "    \"Pizza Ontology\": [\n",
    "        len(pizza_onto_g_classes), \n",
    "        len(pizza_onto_g_props), \n",
    "        len(pizza_onto_g_individuals), \n",
    "        len(pizza_onto_g_individuals_from_props), \n",
    "        len(pizza_onto_g_subclassof_t)\n",
    "    ],\n",
    "    \"Text to OWL\": [\n",
    "        len(llm_text2owl_g_classes), \n",
    "        len(llm_text2owl_g_props), \n",
    "        len(llm_text2owl_g_individuals), \n",
    "        len(llm_text2owl_g_individuals_from_props), \n",
    "        len(llm_text2owl_g_subclassof_t)\n",
    "    ],\n",
    "    \"OLAF LLM\": [\n",
    "        len(olaf_llm_g_classes), \n",
    "        len(olaf_llm_g_props), \n",
    "        len(olaf_llm_g_individuals), \n",
    "        len(olaf_llm_g_individuals_from_props), \n",
    "        len(olaf_llm_g_subclassof_t)\n",
    "    ],\n",
    "    \"OLAF no LLM\": [\n",
    "        len(olaf_no_llm_g_classes), \n",
    "        len(olaf_no_llm_g_props), \n",
    "        len(olaf_no_llm_g_individuals), \n",
    "        len(olaf_no_llm_g_individuals_from_props), \n",
    "        len(olaf_no_llm_g_subclassof_t)\n",
    "    ]\n",
    "}\n",
    "\n",
    "df_overview = pd.DataFrame(onto_overview)"
   ]
  },
  {
   "cell_type": "code",
   "execution_count": null,
   "metadata": {},
   "outputs": [],
   "source": [
    "df_overview"
   ]
  },
  {
   "cell_type": "markdown",
   "metadata": {},
   "source": [
    "## Ontologies evaluation"
   ]
  },
  {
   "cell_type": "markdown",
   "metadata": {},
   "source": [
    "Classes"
   ]
  },
  {
   "cell_type": "code",
   "execution_count": null,
   "metadata": {},
   "outputs": [],
   "source": [
    "pizza_onto_class_labels = get_sparql_q_label_res(sparql_q=owl_classes_en_labels_sparql_q, graph=pizza_onto_graph, ns=olaf_nlp4kgc_ns_bindings)\n",
    "pizza_onto_class_labels = {label.lower().replace(\" \", \"\") for label in pizza_onto_class_labels}"
   ]
  },
  {
   "cell_type": "code",
   "execution_count": null,
   "metadata": {},
   "outputs": [],
   "source": [
    "llm_text2owl_class_labels = get_sparql_q_label_res(sparql_q=owl_classes_labels_sparql_q, graph=llm_text2owl_graph, ns=olaf_nlp4kgc_ns_bindings)\n",
    "llm_text2owl_class_labels = list({label.lower().replace(\" \", \"\") for label in llm_text2owl_class_labels})\n",
    "\n",
    "# Uncomment this to visualise the string alignments\n",
    "for true_label in pizza_onto_class_labels:\n",
    "    res = process.extract(true_label, llm_text2owl_class_labels, scorer=fuzz.WRatio, limit=3)\n",
    "    print(f\"{true_label} :  {res[0][0]} ({res[0][1]}), {res[1][0]} ({res[1][1]}), {res[2][0]} ({res[2][1]})\") \n",
    "    "
   ]
  },
  {
   "cell_type": "code",
   "execution_count": null,
   "metadata": {},
   "outputs": [],
   "source": [
    "common_classes_pizza_text2owl=24"
   ]
  },
  {
   "cell_type": "code",
   "execution_count": null,
   "metadata": {},
   "outputs": [],
   "source": [
    "olaf_llm_class_labels = get_sparql_q_label_res(sparql_q=owl_classes_sparql_q, graph=olaf_llm_graph, ns=olaf_nlp4kgc_ns_bindings)\n",
    "olaf_llm_class_labels = list({label.lower().replace(str(olaf_nlp4kgc_ns), \"\") for label in olaf_llm_class_labels})\n",
    "\n",
    "# Uncomment this to visualise the string alignments\n",
    "for true_label in pizza_onto_class_labels:\n",
    "    res = process.extract(true_label, olaf_llm_class_labels, scorer=fuzz.WRatio, limit=3)\n",
    "    print(f\"{true_label} :  {res[0][0]} ({res[0][1]}), {res[1][0]} ({res[1][1]}), {res[2][0]} ({res[2][1]})\") \n",
    "    "
   ]
  },
  {
   "cell_type": "code",
   "execution_count": null,
   "metadata": {},
   "outputs": [],
   "source": [
    "common_classes_pizza_olaf_llm=19"
   ]
  },
  {
   "cell_type": "code",
   "execution_count": null,
   "metadata": {},
   "outputs": [],
   "source": [
    "olaf_no_llm_class_labels = get_sparql_q_label_res(sparql_q=owl_classes_labels_sparql_q, graph=olaf_no_llm_graph, ns=olaf_nlp4kgc_ns_bindings)\n",
    "olaf_no_llm_class_labels = list({label.lower().replace(\" \", \"\") for label in olaf_no_llm_class_labels})\n",
    "\n",
    "# Uncomment this to visualise the string alignments\n",
    "# for true_label in pizza_onto_class_labels:\n",
    "#     res = process.extract(true_label, olaf_no_llm_class_labels, scorer=fuzz.WRatio, limit=3)\n",
    "#     print(f\"{true_label} :  {res[0][0]} ({res[0][1]}), {res[1][0]} ({res[1][1]}), {res[2][0]} ({res[2][1]})\") \n",
    "    "
   ]
  },
  {
   "cell_type": "code",
   "execution_count": null,
   "metadata": {},
   "outputs": [],
   "source": [
    "common_classes_pizza_olaf_no_llm=43"
   ]
  },
  {
   "cell_type": "markdown",
   "metadata": {},
   "source": [
    "Individuals"
   ]
  },
  {
   "cell_type": "code",
   "execution_count": null,
   "metadata": {},
   "outputs": [],
   "source": [
    "pizza_onto_ind_uri = get_sparql_q_label_res(sparql_q=owl_named_ind_from_obj_props_sparql_q, graph=pizza_onto_graph, ns=olaf_nlp4kgc_ns_bindings)\n",
    "pizza_onto_ind_uri = list({label.lower().replace(str(pizza_onto_ns), \"\") for label in pizza_onto_ind_uri})"
   ]
  },
  {
   "cell_type": "code",
   "execution_count": null,
   "metadata": {},
   "outputs": [],
   "source": [
    "llm_text2owl_ind_uri = get_sparql_q_label_res(sparql_q=owl_named_ind_from_obj_props_sparql_q, graph=llm_text2owl_graph, ns=olaf_nlp4kgc_ns_bindings)\n",
    "llm_text2owl_ind_uri = list({label.lower().replace(str(olaf_nlp4kgc_ns), \"\") for label in llm_text2owl_ind_uri})\n",
    "\n",
    "# Uncomment this to visualise the string alignments\n",
    "# for true_label in pizza_onto_ind_uri:\n",
    "#     res = process.extract(true_label, llm_text2owl_ind_uri, scorer=fuzz.WRatio, limit=3)\n",
    "#     print(f\"{true_label} :  {res[0][0]} ({res[0][1]}), {res[1][0]} ({res[1][1]}), {res[2][0]} ({res[2][1]})\") \n",
    "    "
   ]
  },
  {
   "cell_type": "code",
   "execution_count": null,
   "metadata": {},
   "outputs": [],
   "source": [
    "common_ind_pizza_text2owl=0"
   ]
  },
  {
   "cell_type": "code",
   "execution_count": null,
   "metadata": {},
   "outputs": [],
   "source": [
    "olaf_llm_ind_uri = get_sparql_q_label_res(sparql_q=owl_named_ind_from_obj_props_sparql_q, graph=olaf_llm_graph, ns=olaf_nlp4kgc_ns_bindings)\n",
    "olaf_llm_ind_uri = list({label.lower().replace(str(olaf_nlp4kgc_ns), \"\") for label in olaf_llm_ind_uri})\n",
    "\n",
    "# Uncomment this to visualise the string alignments\n",
    "for true_label in pizza_onto_ind_uri:\n",
    "    res = process.extract(true_label, olaf_llm_ind_uri, scorer=fuzz.WRatio, limit=3)\n",
    "    print(f\"{true_label} :  {res[0][0]} ({res[0][1]}), {res[1][0]} ({res[1][1]}), {res[2][0]} ({res[2][1]})\") "
   ]
  },
  {
   "cell_type": "code",
   "execution_count": null,
   "metadata": {},
   "outputs": [],
   "source": [
    "common_ind_pizza_olaf_llm = 0"
   ]
  },
  {
   "cell_type": "code",
   "execution_count": null,
   "metadata": {},
   "outputs": [],
   "source": [
    "olaf_no_llm_ind_uri = get_sparql_q_label_res(sparql_q=owl_named_ind_from_obj_props_sparql_q, graph=olaf_no_llm_graph, ns=olaf_nlp4kgc_ns_bindings)\n",
    "olaf_no_llm_ind_uri = list({label.lower().replace(str(olaf_nlp4kgc_ns), \"\") for label in olaf_no_llm_ind_uri})\n",
    "\n",
    "# Uncomment this to visualise the string alignments\n",
    "# for true_label in pizza_onto_ind_uri:\n",
    "#     res = process.extract(true_label, olaf_no_llm_ind_uri, scorer=fuzz.WRatio, limit=3)\n",
    "#     print(f\"{true_label} :  {res[0][0]} ({res[0][1]}), {res[1][0]} ({res[1][1]}), {res[2][0]} ({res[2][1]})\")"
   ]
  },
  {
   "cell_type": "code",
   "execution_count": null,
   "metadata": {},
   "outputs": [],
   "source": [
    "common_ind_pizza_olaf_no_llm = 2"
   ]
  },
  {
   "cell_type": "markdown",
   "metadata": {},
   "source": [
    "Classes + indiviuals"
   ]
  },
  {
   "cell_type": "code",
   "execution_count": null,
   "metadata": {},
   "outputs": [],
   "source": [
    "pizza_onto_classes_ind_uri = get_sparql_q_label_res(sparql_q=owl_named_classes_ind_from_obj_props_sparql_q, graph=pizza_onto_graph, ns=olaf_nlp4kgc_ns_bindings)\n",
    "pizza_onto_classes_ind_uri = list({label.lower().replace(str(pizza_onto_ns), \"\") for label in pizza_onto_classes_ind_uri})\n",
    "pizza_onto_classes_ind_uri = [uri for uri in pizza_onto_classes_ind_uri if not(uri[0:2]==\"nc\")]"
   ]
  },
  {
   "cell_type": "code",
   "execution_count": null,
   "metadata": {},
   "outputs": [],
   "source": [
    "llm_text2owl_classes_ind_uri = get_sparql_q_label_res(sparql_q=owl_named_classes_ind_from_obj_props_sparql_q, graph=llm_text2owl_graph, ns=olaf_nlp4kgc_ns_bindings)\n",
    "llm_text2owl_classes_ind_uri = list({label.lower().replace(str(olaf_nlp4kgc_ns), \"\") for label in llm_text2owl_classes_ind_uri})\n",
    "\n",
    "# Uncomment this for loop to visualise the string alignments\n",
    "for true_label in pizza_onto_classes_ind_uri:\n",
    "    res = process.extract(true_label, llm_text2owl_classes_ind_uri, scorer=fuzz.WRatio, limit=3)\n",
    "    print(f\"{true_label} :  {res[0][0]} ({res[0][1]}), {res[1][0]} ({res[1][1]}), {res[2][0]} ({res[2][1]})\") \n",
    "    "
   ]
  },
  {
   "cell_type": "code",
   "execution_count": null,
   "metadata": {},
   "outputs": [],
   "source": [
    "common_classes_ind_pizza_text2owl=20"
   ]
  },
  {
   "cell_type": "code",
   "execution_count": null,
   "metadata": {},
   "outputs": [],
   "source": [
    "olaf_llm_classes_ind_uri = get_sparql_q_label_res(sparql_q=owl_named_classes_ind_from_obj_props_sparql_q, graph=olaf_llm_graph, ns=olaf_nlp4kgc_ns_bindings)\n",
    "olaf_llm_classes_ind_uri = list({label.lower().replace(str(olaf_nlp4kgc_ns), \"\") for label in olaf_llm_classes_ind_uri})\n",
    "\n",
    "# Uncomment this for loop to visualise the string alignments\n",
    "# for true_label in pizza_onto_classes_ind_uri:\n",
    "#     res = process.extract(true_label, olaf_llm_classes_ind_uri, scorer=fuzz.WRatio, limit=3)\n",
    "#     print(f\"{true_label} :  {res[0][0]} ({res[0][1]}), {res[1][0]} ({res[1][1]}), {res[2][0]} ({res[2][1]})\") \n",
    "    "
   ]
  },
  {
   "cell_type": "code",
   "execution_count": null,
   "metadata": {},
   "outputs": [],
   "source": [
    "common_classes_ind_pizza_olaf_llm=14"
   ]
  },
  {
   "cell_type": "code",
   "execution_count": null,
   "metadata": {},
   "outputs": [],
   "source": [
    "olaf_no_llm_classes_ind_uri = get_sparql_q_label_res(sparql_q=owl_named_classes_ind_from_obj_props_sparql_q, graph=olaf_no_llm_graph, ns=olaf_nlp4kgc_ns_bindings)\n",
    "olaf_no_llm_classes_ind_uri = list({label.lower().replace(str(olaf_nlp4kgc_ns), \"\") for label in olaf_no_llm_classes_ind_uri})\n",
    "\n",
    "# Uncomment this for loop to visualise the string alignments\n",
    "# for true_label in pizza_onto_classes_ind_uri:\n",
    "#     res = process.extract(true_label, olaf_no_llm_classes_ind_uri, scorer=fuzz.WRatio, limit=3)\n",
    "#     print(f\"{true_label} :  {res[0][0]} ({res[0][1]}), {res[1][0]} ({res[1][1]}), {res[2][0]} ({res[2][1]})\") "
   ]
  },
  {
   "cell_type": "code",
   "execution_count": null,
   "metadata": {},
   "outputs": [],
   "source": [
    "common_classes_ind_pizza_olaf_no_llm=59"
   ]
  },
  {
   "cell_type": "markdown",
   "metadata": {},
   "source": [
    "Object properties"
   ]
  },
  {
   "cell_type": "code",
   "execution_count": null,
   "metadata": {},
   "outputs": [],
   "source": [
    "pizza_onto_obj_prop_uri = get_sparql_q_label_res(sparql_q=owl_obj_props_sparql_q, graph=pizza_onto_graph, ns=olaf_nlp4kgc_ns_bindings)\n",
    "pizza_onto_obj_prop_uri = list({label.lower().replace(str(pizza_onto_ns), \"\") for label in pizza_onto_obj_prop_uri})"
   ]
  },
  {
   "cell_type": "code",
   "execution_count": null,
   "metadata": {},
   "outputs": [],
   "source": [
    "llm_text2owl_obj_prop_uri = get_sparql_q_label_res(sparql_q=owl_obj_props_sparql_q, graph=llm_text2owl_graph, ns=olaf_nlp4kgc_ns_bindings)\n",
    "llm_text2owl_obj_prop_uri = list({label.lower().replace(str(olaf_nlp4kgc_ns), \"\") for label in llm_text2owl_obj_prop_uri})\n",
    "\n",
    "# Uncomment this to visualise the string alignments\n",
    "# for true_label in pizza_onto_obj_prop_uri:\n",
    "#     res = process.extract(true_label, llm_text2owl_obj_prop_uri, scorer=fuzz.WRatio, limit=2)\n",
    "#     print(f\"{true_label} :  {res[0][0]} ({res[0][1]}), {res[1][0]} ({res[1][1]})\") \n",
    "    "
   ]
  },
  {
   "cell_type": "code",
   "execution_count": null,
   "metadata": {},
   "outputs": [],
   "source": [
    "common_obj_prop_pizza_text2owl=0"
   ]
  },
  {
   "cell_type": "code",
   "execution_count": null,
   "metadata": {},
   "outputs": [],
   "source": [
    "olaf_llm_obj_prop_uri = get_sparql_q_label_res(sparql_q=owl_obj_props_sparql_q, graph=olaf_llm_graph, ns=olaf_nlp4kgc_ns_bindings)\n",
    "olaf_llm_obj_prop_uri = list({label.lower().replace(str(olaf_nlp4kgc_ns), \"\") for label in olaf_llm_obj_prop_uri})\n",
    "\n",
    "# Uncomment this to visualise the string alignments\n",
    "for true_label in pizza_onto_obj_prop_uri:\n",
    "    res = process.extract(true_label, olaf_llm_obj_prop_uri, scorer=fuzz.WRatio, limit=3)\n",
    "    print(f\"{true_label} :  {res[0][0]} ({res[0][1]}), {res[1][0]} ({res[1][1]}), {res[2][0]} ({res[2][1]})\") "
   ]
  },
  {
   "cell_type": "code",
   "execution_count": null,
   "metadata": {},
   "outputs": [],
   "source": [
    "common_obj_prop_pizza_olaf_llm = 0"
   ]
  },
  {
   "cell_type": "code",
   "execution_count": null,
   "metadata": {},
   "outputs": [],
   "source": [
    "olaf_no_llm_obj_prop_uri = get_sparql_q_label_res(sparql_q=owl_obj_props_sparql_q, graph=olaf_no_llm_graph, ns=olaf_nlp4kgc_ns_bindings)\n",
    "olaf_no_llm_obj_prop_uri = list({label.lower().replace(str(olaf_nlp4kgc_ns), \"\") for label in olaf_no_llm_obj_prop_uri})\n",
    "\n",
    "# Uncomment this to visualise the string alignments\n",
    "# for true_label in pizza_onto_obj_prop_uri:\n",
    "#     res = process.extract(true_label, olaf_no_llm_obj_prop_uri, scorer=fuzz.WRatio, limit=3)\n",
    "#     print(f\"{true_label} :  {res[0][0]} ({res[0][1]}), {res[1][0]} ({res[1][1]}), {res[2][0]} ({res[2][1]})\") "
   ]
  },
  {
   "cell_type": "code",
   "execution_count": null,
   "metadata": {},
   "outputs": [],
   "source": [
    "common_obj_prop_pizza_olaf_no_llm = 3"
   ]
  },
  {
   "cell_type": "markdown",
   "metadata": {},
   "source": [
    "SubClassOf tuples"
   ]
  },
  {
   "cell_type": "code",
   "execution_count": null,
   "metadata": {},
   "outputs": [],
   "source": [
    "pizza_onto_sub_uri = get_sparql_q_tuple_res(sparql_q=rdfs_subclassof_tuples_sparql_q, graph=pizza_onto_graph, ns=olaf_nlp4kgc_ns_bindings)\n",
    "pizza_onto_sub_uri = list({f\"{label[0].lower().replace(str(pizza_onto_ns), '')}#{label[1].lower().replace(str(pizza_onto_ns), '')}\" for label in pizza_onto_sub_uri if not(label[0][0:2]==\"nc\" or label[1][0:2]==\"nc\")})"
   ]
  },
  {
   "cell_type": "code",
   "execution_count": null,
   "metadata": {},
   "outputs": [],
   "source": [
    "llm_text2owl_sub_uri = get_sparql_q_tuple_res(sparql_q=rdfs_subclassof_tuples_sparql_q, graph=llm_text2owl_graph, ns=olaf_nlp4kgc_ns_bindings)\n",
    "llm_text2owl_sub_uri = list({f\"{label[0].lower().replace(str(olaf_nlp4kgc_ns), '')}#{label[1].lower().replace(str(olaf_nlp4kgc_ns), '')}\" for label in llm_text2owl_sub_uri})\n",
    "\n",
    "# Uncomment this for loop to visualise the string alignments\n",
    "for true_label in pizza_onto_sub_uri:\n",
    "    res = process.extract(true_label, llm_text2owl_sub_uri, scorer=fuzz.WRatio, limit=3)\n",
    "    print(f\"{true_label} :  {res[0][0]} ({res[0][1]}), {res[1][0]} ({res[1][1]}), {res[2][0]} ({res[2][1]})\") \n",
    "    "
   ]
  },
  {
   "cell_type": "code",
   "execution_count": null,
   "metadata": {},
   "outputs": [],
   "source": [
    "common_sub_pizza_text2owl=13"
   ]
  },
  {
   "cell_type": "code",
   "execution_count": null,
   "metadata": {},
   "outputs": [],
   "source": [
    "olaf_llm_sub_uri = get_sparql_q_tuple_res(sparql_q=rdfs_subclassof_tuples_sparql_q, graph=olaf_llm_graph, ns=olaf_nlp4kgc_ns_bindings)\n",
    "olaf_llm_sub_uri = list({f\"{label[0].lower().replace(str(olaf_nlp4kgc_ns), '')}#{label[1].lower().replace(str(olaf_nlp4kgc_ns), '')}\" for label in olaf_llm_sub_uri})\n",
    "\n",
    "# Uncomment this for loop to visualise the string alignments\n",
    "for true_label in pizza_onto_sub_uri:\n",
    "    res = process.extract(true_label, olaf_llm_sub_uri, scorer=fuzz.WRatio, limit=3)\n",
    "    print(f\"{true_label} :  {res[0][0]} ({res[0][1]}), {res[1][0]} ({res[1][1]}), {res[2][0]} ({res[2][1]})\") \n",
    "    "
   ]
  },
  {
   "cell_type": "code",
   "execution_count": null,
   "metadata": {},
   "outputs": [],
   "source": [
    "common_sub_pizza_olaf_llm=4"
   ]
  },
  {
   "cell_type": "code",
   "execution_count": null,
   "metadata": {},
   "outputs": [],
   "source": [
    "olaf_no_llm_sub_uri = get_sparql_q_tuple_res(sparql_q=rdfs_subclassof_tuples_sparql_q, graph=olaf_no_llm_graph, ns=olaf_nlp4kgc_ns_bindings)\n",
    "olaf_no_llm_sub_uri = list({f\"{label[0].lower().replace(str(olaf_nlp4kgc_ns), '')}#{label[1].lower().replace(str(olaf_nlp4kgc_ns), '')}\" for label in olaf_no_llm_sub_uri})\n",
    "\n",
    "# Uncomment this for loop to visualise the string alignments\n",
    "# for true_label in pizza_onto_sub_uri:\n",
    "#     res = process.extract(true_label, olaf_no_llm_sub_uri, scorer=fuzz.WRatio, limit=3)\n",
    "#     print(f\"{true_label} :  {res[0][0]} ({res[0][1]}), {res[1][0]} ({res[1][1]}), {res[2][0]} ({res[2][1]})\") \n",
    "    "
   ]
  },
  {
   "cell_type": "code",
   "execution_count": null,
   "metadata": {},
   "outputs": [],
   "source": [
    "common_sub_pizza_olaf_no_llm=6"
   ]
  },
  {
   "cell_type": "markdown",
   "metadata": {},
   "source": [
    "Results"
   ]
  },
  {
   "cell_type": "code",
   "execution_count": null,
   "metadata": {},
   "outputs": [],
   "source": [
    "classes_conciseness_text2owl = common_classes_pizza_text2owl/len(llm_text2owl_class_labels)\n",
    "classes_conciseness_olafLLM =  common_classes_pizza_olaf_llm/len(olaf_llm_class_labels)\n",
    "classes_conciseness_olafNoLLM = common_classes_pizza_olaf_no_llm/len(olaf_no_llm_class_labels)\n",
    "  \n",
    "classes_completeness_text2owl = common_classes_pizza_text2owl/len(pizza_onto_class_labels)\n",
    "classes_completeness_olafLLM = common_classes_pizza_olaf_llm/len(pizza_onto_class_labels)\n",
    "classes_completeness_olafNoLLM = common_classes_pizza_olaf_no_llm/len(pizza_onto_class_labels)\n",
    "\n",
    "individuals_conciseness_text2owl = common_ind_pizza_text2owl/len(llm_text2owl_ind_uri)\n",
    "individuals_conciseness_olafLLM =  common_ind_pizza_olaf_llm/len(olaf_llm_ind_uri)\n",
    "individuals_conciseness_olafNoLLM = common_ind_pizza_olaf_no_llm/len(olaf_no_llm_ind_uri)\n",
    "\n",
    "individuals_completeness_text2owl = common_ind_pizza_text2owl/len(pizza_onto_ind_uri)\n",
    "individuals_completeness_olafLLM = common_ind_pizza_olaf_llm/len(pizza_onto_ind_uri)\n",
    "individuals_completeness_olafNoLLM = common_ind_pizza_olaf_no_llm/len(pizza_onto_ind_uri)\n",
    "\n",
    "classesAndIndividuals_conciseness_text2owl = common_classes_ind_pizza_text2owl/len(llm_text2owl_classes_ind_uri)\n",
    "classesAndIndividuals_conciseness_olafLLM = common_classes_ind_pizza_olaf_llm/len(olaf_llm_classes_ind_uri)\n",
    "classesAndIndividuals_conciseness_olafNoLLM = common_classes_ind_pizza_olaf_no_llm/len(olaf_no_llm_classes_ind_uri)\n",
    "\n",
    "classesAndIndividuals_completeness_text2owl = common_classes_ind_pizza_text2owl/len(pizza_onto_classes_ind_uri)\n",
    "classesAndIndividuals_completeness_olafLLM = common_classes_ind_pizza_olaf_llm/len(pizza_onto_classes_ind_uri)\n",
    "classesAndIndividuals_completeness_olafNoLLM = common_classes_ind_pizza_olaf_no_llm/len(pizza_onto_classes_ind_uri)\n",
    "\n",
    "objectProperties_conciseness_text2owl = common_obj_prop_pizza_text2owl/len(pizza_onto_obj_prop_uri)\n",
    "objectProperties_conciseness_olafLLM = common_obj_prop_pizza_olaf_llm/len(olaf_llm_obj_prop_uri)\n",
    "objectProperties_conciseness_olafNoLLM = common_obj_prop_pizza_olaf_no_llm/len(olaf_no_llm_obj_prop_uri)\n",
    "\n",
    "objectProperties_completeness_text2owl = common_obj_prop_pizza_text2owl/len(llm_text2owl_obj_prop_uri)\n",
    "objectProperties_completeness_olafLLM = common_obj_prop_pizza_olaf_llm/len(pizza_onto_obj_prop_uri)\n",
    "objectProperties_completeness_olafNoLLM = common_obj_prop_pizza_olaf_no_llm/len(pizza_onto_obj_prop_uri)\n",
    "\n",
    "subClassOfPairs_conciseness_text2owl = common_sub_pizza_text2owl/len(llm_text2owl_sub_uri)\n",
    "subClassOfPairs_conciseness_olafLLM = common_sub_pizza_olaf_llm/len(olaf_llm_sub_uri)\n",
    "subClassOfPairs_conciseness_olafNoLLM = common_sub_pizza_olaf_no_llm/len(olaf_no_llm_sub_uri)\n",
    "\n",
    "subClassOfPairs_completeness_text2owl = common_sub_pizza_text2owl/len(pizza_onto_sub_uri)\n",
    "subClassOfPairs_completeness_olafLLM = common_sub_pizza_olaf_llm/len(pizza_onto_sub_uri)\n",
    "subClassOfPairs_completeness_olafNoLLM = common_sub_pizza_olaf_no_llm/len(pizza_onto_sub_uri)"
   ]
  },
  {
   "cell_type": "code",
   "execution_count": null,
   "metadata": {},
   "outputs": [],
   "source": [
    "def correctness(conciseness, completeness) -> float:\n",
    "    if conciseness + completeness == 0:\n",
    "        return 0\n",
    "    else:\n",
    "        return 2*(conciseness * completeness) / (conciseness + completeness)"
   ]
  },
  {
   "cell_type": "code",
   "execution_count": null,
   "metadata": {},
   "outputs": [],
   "source": [
    "onto_evaluation = {\n",
    "    \"Metrics\": [\n",
    "        \"Classes conciseness\", \n",
    "        \"Classes completeness\", \n",
    "        \"Classes correctness\",\n",
    "        \"Individuals conciseness\", \n",
    "        \"Individuals completeness\", \n",
    "        \"Individuals correctness\",\n",
    "        \"Classes and individuals conciseness\", \n",
    "        \"Classes and individuals completeness\", \n",
    "        \"Classes and individuals correctness\",\n",
    "        \"Object properties conciseness\", \n",
    "        \"Object properties completeness\", \n",
    "        \"Object properties correctness\",\n",
    "        \"SubClassOf pairs conciseness\", \n",
    "        \"SubClassOf pairs completeness\",\n",
    "        \"SubClassOf pairs correctness\"\n",
    "    ],\n",
    "    \"Text to OWL\": [\n",
    "        classes_conciseness_text2owl, \n",
    "        classes_completeness_text2owl, \n",
    "        correctness(classes_conciseness_text2owl, classes_completeness_text2owl),\n",
    "        individuals_conciseness_text2owl,\n",
    "        individuals_completeness_text2owl, \n",
    "        correctness(individuals_conciseness_text2owl, individuals_completeness_text2owl),\n",
    "        classesAndIndividuals_conciseness_text2owl, \n",
    "        classesAndIndividuals_completeness_text2owl, \n",
    "        correctness(classesAndIndividuals_conciseness_text2owl, classesAndIndividuals_completeness_text2owl),\n",
    "        objectProperties_conciseness_text2owl, \n",
    "        objectProperties_completeness_text2owl, \n",
    "        correctness(objectProperties_conciseness_text2owl, objectProperties_completeness_text2owl),\n",
    "        subClassOfPairs_conciseness_text2owl, \n",
    "        subClassOfPairs_completeness_text2owl,\n",
    "        correctness(subClassOfPairs_conciseness_text2owl, subClassOfPairs_completeness_text2owl,)\n",
    "    ],\n",
    "    \"OLAF LLM\": [\n",
    "        classes_conciseness_olafLLM, \n",
    "        classes_completeness_olafLLM, \n",
    "        correctness(classes_conciseness_olafLLM, classes_completeness_olafLLM),\n",
    "        individuals_conciseness_olafLLM, \n",
    "        individuals_completeness_olafLLM, \n",
    "        correctness(individuals_conciseness_olafLLM, individuals_completeness_olafLLM),\n",
    "        classesAndIndividuals_conciseness_olafLLM, \n",
    "        classesAndIndividuals_completeness_olafLLM, \n",
    "        correctness(classesAndIndividuals_conciseness_olafLLM, classesAndIndividuals_completeness_olafLLM),\n",
    "        objectProperties_conciseness_olafLLM, \n",
    "        objectProperties_completeness_olafLLM, \n",
    "        correctness(objectProperties_conciseness_olafLLM, objectProperties_completeness_olafLLM),\n",
    "        subClassOfPairs_conciseness_olafLLM,\n",
    "        subClassOfPairs_completeness_olafLLM,\n",
    "        correctness(subClassOfPairs_conciseness_olafLLM, subClassOfPairs_completeness_olafLLM)\n",
    "    ],\n",
    "    \"OLAF no LLM\": [\n",
    "        classes_conciseness_olafNoLLM,\n",
    "        classes_completeness_olafNoLLM,\n",
    "        correctness(classes_conciseness_olafNoLLM, classes_completeness_olafNoLLM),\n",
    "        individuals_conciseness_olafNoLLM,\n",
    "        individuals_completeness_olafNoLLM,\n",
    "        correctness(individuals_conciseness_olafNoLLM, individuals_completeness_olafNoLLM),\n",
    "        classesAndIndividuals_conciseness_olafNoLLM,\n",
    "        classesAndIndividuals_completeness_olafNoLLM,\n",
    "        correctness(classesAndIndividuals_conciseness_olafNoLLM, classesAndIndividuals_completeness_olafNoLLM),\n",
    "        objectProperties_conciseness_olafNoLLM,\n",
    "        objectProperties_completeness_olafNoLLM,\n",
    "        correctness(objectProperties_conciseness_olafNoLLM, objectProperties_completeness_olafNoLLM),\n",
    "        subClassOfPairs_conciseness_olafNoLLM,\n",
    "        subClassOfPairs_completeness_olafNoLLM,\n",
    "        correctness(subClassOfPairs_conciseness_olafNoLLM, subClassOfPairs_completeness_olafNoLLM)\n",
    "    ]\n",
    "}\n",
    "\n",
    "df_evaluation = pd.DataFrame(onto_evaluation)"
   ]
  },
  {
   "cell_type": "code",
   "execution_count": null,
   "metadata": {},
   "outputs": [],
   "source": [
    "df_evaluation"
   ]
  }
 ],
 "metadata": {
  "kernelspec": {
   "display_name": "olaf-eswc-venv",
   "language": "python",
   "name": "python3"
  },
  "language_info": {
   "codemirror_mode": {
    "name": "ipython",
    "version": 3
   },
   "file_extension": ".py",
   "mimetype": "text/x-python",
   "name": "python",
   "nbconvert_exporter": "python",
   "pygments_lexer": "ipython3",
   "version": "3.10.12"
  }
 },
 "nbformat": 4,
 "nbformat_minor": 2
}
